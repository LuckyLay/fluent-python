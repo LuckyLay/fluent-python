{
 "cells": [
  {
   "cell_type": "markdown",
   "metadata": {},
   "source": [
    "## 第10章 序列的修改、散列和切片\n",
    "\n",
    "- 用户定义的序列类型\n",
    "    - 协议和鸭子类型"
   ]
  },
  {
   "cell_type": "code",
   "execution_count": 22,
   "metadata": {},
   "outputs": [],
   "source": [
    "# 头文件\n",
    "\n",
    "from array import array\n",
    "import reprlib\n",
    "import math\n",
    "import collections\n",
    "import numbers"
   ]
  },
  {
   "cell_type": "code",
   "execution_count": 4,
   "metadata": {},
   "outputs": [],
   "source": [
    "# help(array)"
   ]
  },
  {
   "cell_type": "code",
   "execution_count": 5,
   "metadata": {},
   "outputs": [],
   "source": [
    "# Demo_10-2\n",
    "\n",
    "class Vector:\n",
    "    typecode = 'd' # 转换成浮点数\n",
    "    def __init__(self, components):\n",
    "        self._components = array(self.typecode, components)  # “受保护的”实例属性，把Vector的分量保存在一个数组中\n",
    "    def __iter__(self):\n",
    "        return iter(self._components)\n",
    "    def __repr__(self):\n",
    "        components = reprlib.repr(self._components) # 使用reprlib.repr（　）函数获取self._components的有限长度表示形式\n",
    "        components = components[components.find('['): -1]\n",
    "        return 'Vector({})'.format(components)\n",
    "    def __str__(self):\n",
    "        return str(tuple(self))\n",
    "    def __bytes__(self):\n",
    "        return (bytes([ord(self.typecode)]) + bytes(self._components))\n",
    "    def __eq__(self, other):\n",
    "        return tuple(self) == tuple(other)\n",
    "    def __abs__(self):\n",
    "        return math.sqrt(sum(x * x for x in self))\n",
    "    def __bool__(self):\n",
    "        return bool(abs(self))\n",
    "    @classmethod\n",
    "    def frombytes(cls, octets):\n",
    "        typecode = chr(octets[0])\n",
    "        memv = memoryview(octets[1:]).cast(typecode)\n",
    "        return cls(memv)"
   ]
  },
  {
   "cell_type": "markdown",
   "metadata": {},
   "source": [
    "- reprlib.repr():\n",
    "    - 这个函数用于生成大型结构或递归结构的安全表示形式，它会限制输出字符串的长度，用'...'表示截断的部分\n",
    "- 调用repr（　）函数的目的是调试，因此绝对不能抛出异常。\n"
   ]
  },
  {
   "cell_type": "code",
   "execution_count": 5,
   "metadata": {},
   "outputs": [],
   "source": [
    "# Demo_10-3\n",
    "\n",
    "Card = collections.namedtuple('Card', ['rank', 'suit'])\n",
    "\n",
    "class FrenchDeck:\n",
    "    ranks = [str(n) for n in range(2, 11)] + list('JQKA')\n",
    "    suits = 'SPADES DIAMONDS CLUBS HEARTS'.split( )\n",
    "    \n",
    "    def __init__(self):\n",
    "        self._cards = [Card(rank, suit) for suit in self.suits for rank in self.ranks]\n",
    "    def __len__(self):\n",
    "        return len(self._cards)\n",
    "    def __getItem__(self, position):\n",
    "        return self._cards[position]"
   ]
  },
  {
   "cell_type": "code",
   "execution_count": 9,
   "metadata": {},
   "outputs": [
    {
     "name": "stdout",
     "output_type": "stream",
     "text": [
      "1\n",
      "slice(1, 4, None)\n",
      "slice(1, 4, 2)\n",
      "(slice(1, 4, 2), 9)\n",
      "(slice(1, 4, 2), slice(7, 9, None))\n"
     ]
    }
   ],
   "source": [
    "# 切片原理\n",
    "# Demo_10-4\n",
    "\n",
    "class MySeq:\n",
    "    def __getitem__(self, index):\n",
    "        return index\n",
    "\n",
    "obj_s = MySeq()\n",
    "print(obj_s[1])\n",
    "print(obj_s[1:4])\n",
    "print(obj_s[1:4:2])\n",
    "print(obj_s[1:4:2, 9])  # 如果[]中有逗号，那么__getitem__收到的是元组\n",
    "print(obj_s[1:4:2, 7:9])  # 元组中甚至可以有多个切片对象"
   ]
  },
  {
   "cell_type": "code",
   "execution_count": 10,
   "metadata": {},
   "outputs": [
    {
     "data": {
      "text/plain": [
       "['__class__',\n",
       " '__delattr__',\n",
       " '__dir__',\n",
       " '__doc__',\n",
       " '__eq__',\n",
       " '__format__',\n",
       " '__ge__',\n",
       " '__getattribute__',\n",
       " '__gt__',\n",
       " '__hash__',\n",
       " '__init__',\n",
       " '__init_subclass__',\n",
       " '__le__',\n",
       " '__lt__',\n",
       " '__ne__',\n",
       " '__new__',\n",
       " '__reduce__',\n",
       " '__reduce_ex__',\n",
       " '__repr__',\n",
       " '__setattr__',\n",
       " '__sizeof__',\n",
       " '__str__',\n",
       " '__subclasshook__',\n",
       " 'indices',\n",
       " 'start',\n",
       " 'step',\n",
       " 'stop']"
      ]
     },
     "execution_count": 10,
     "metadata": {},
     "output_type": "execute_result"
    }
   ],
   "source": [
    "# Demo_10-5\n",
    "dir(slice)"
   ]
  },
  {
   "cell_type": "code",
   "execution_count": 11,
   "metadata": {},
   "outputs": [
    {
     "name": "stdout",
     "output_type": "stream",
     "text": [
      "Help on method_descriptor:\n",
      "\n",
      "indices(...)\n",
      "    S.indices(len) -> (start, stop, stride)\n",
      "    \n",
      "    Assuming a sequence of length len, calculate the start and stop\n",
      "    indices, and the stride length of the extended slice described by\n",
      "    S. Out of bounds indices are clipped in a manner consistent with the\n",
      "    handling of normal slices.\n",
      "\n"
     ]
    }
   ],
   "source": [
    "help(slice.indices)"
   ]
  },
  {
   "cell_type": "code",
   "execution_count": 14,
   "metadata": {},
   "outputs": [
    {
     "data": {
      "text/plain": [
       "(0, 5, 2)"
      ]
     },
     "execution_count": 14,
     "metadata": {},
     "output_type": "execute_result"
    }
   ],
   "source": [
    "slice(None, 10, 2).indices(5)"
   ]
  },
  {
   "cell_type": "code",
   "execution_count": 15,
   "metadata": {},
   "outputs": [
    {
     "data": {
      "text/plain": [
       "(2, 5, 1)"
      ]
     },
     "execution_count": 15,
     "metadata": {},
     "output_type": "execute_result"
    }
   ],
   "source": [
    "slice(-3, None, None).indices(5)"
   ]
  },
  {
   "cell_type": "code",
   "execution_count": 25,
   "metadata": {},
   "outputs": [],
   "source": [
    "# Demo_10-6\n",
    "class Vector:\n",
    "    typecode = 'd' # 转换成浮点数\n",
    "    def __init__(self, components):\n",
    "        self._components = array(self.typecode, components)  # “受保护的”实例属性，把Vector的分量保存在一个数组中\n",
    "    def __iter__(self):\n",
    "        return iter(self._components)\n",
    "    def __repr__(self):\n",
    "        components = reprlib.repr(self._components) # 使用reprlib.repr（　）函数获取self._components的有限长度表示形式\n",
    "        components = components[components.find('['): -1]\n",
    "        return 'Vector({})'.format(components)\n",
    "    def __str__(self):\n",
    "        return str(tuple(self))\n",
    "    def __bytes__(self):\n",
    "        return (bytes([ord(self.typecode)]) + bytes(self._components))\n",
    "    def __eq__(self, other):\n",
    "        return tuple(self) == tuple(other)\n",
    "    def __abs__(self):\n",
    "        return math.sqrt(sum(x * x for x in self))\n",
    "    def __bool__(self):\n",
    "        return bool(abs(self))\n",
    "    @classmethod\n",
    "    def frombytes(cls, octets):\n",
    "        typecode = chr(octets[0])\n",
    "        memv = memoryview(octets[1:]).cast(typecode)\n",
    "        return cls(memv)\n",
    "    def __len__(self):\n",
    "        return len(self._components)\n",
    "    def __getitem__(self, index):\n",
    "        cls = type(self)\n",
    "        if isinstance(index, slice):\n",
    "            return cls(self._components[index]) # 调用类的构造方法，使用_components数组的切片构建一个新Vector实例\n",
    "        elif isinstance(index, numbers.Integral):\n",
    "            return self._components[index]\n",
    "        else:\n",
    "            msq = '{cls.__name__} indices must be integers'\n",
    "            raise TypeError(msq.format(cls=cls))"
   ]
  },
  {
   "cell_type": "code",
   "execution_count": 26,
   "metadata": {},
   "outputs": [
    {
     "name": "stdout",
     "output_type": "stream",
     "text": [
      "6.0\n",
      "(1.0, 2.0, 3.0)\n",
      "(6.0,)\n"
     ]
    },
    {
     "ename": "TypeError",
     "evalue": "Vector indices must be integers",
     "output_type": "error",
     "traceback": [
      "\u001b[1;31m---------------------------------------------------------------------------\u001b[0m",
      "\u001b[1;31mTypeError\u001b[0m                                 Traceback (most recent call last)",
      "\u001b[1;32m<ipython-input-26-180ff5f108f5>\u001b[0m in \u001b[0;36m<module>\u001b[1;34m\u001b[0m\n\u001b[0;32m      3\u001b[0m \u001b[0mprint\u001b[0m\u001b[1;33m(\u001b[0m\u001b[0mv_7\u001b[0m\u001b[1;33m[\u001b[0m\u001b[1;36m1\u001b[0m\u001b[1;33m:\u001b[0m\u001b[1;36m4\u001b[0m\u001b[1;33m]\u001b[0m\u001b[1;33m)\u001b[0m\u001b[1;33m\u001b[0m\u001b[1;33m\u001b[0m\u001b[0m\n\u001b[0;32m      4\u001b[0m \u001b[0mprint\u001b[0m\u001b[1;33m(\u001b[0m\u001b[0mv_7\u001b[0m\u001b[1;33m[\u001b[0m\u001b[1;33m-\u001b[0m\u001b[1;36m1\u001b[0m\u001b[1;33m:\u001b[0m\u001b[1;33m]\u001b[0m\u001b[1;33m)\u001b[0m\u001b[1;33m\u001b[0m\u001b[1;33m\u001b[0m\u001b[0m\n\u001b[1;32m----> 5\u001b[1;33m \u001b[0mprint\u001b[0m\u001b[1;33m(\u001b[0m\u001b[0mv_7\u001b[0m\u001b[1;33m[\u001b[0m\u001b[1;36m1\u001b[0m\u001b[1;33m,\u001b[0m\u001b[1;36m2\u001b[0m\u001b[1;33m]\u001b[0m\u001b[1;33m)\u001b[0m\u001b[1;33m\u001b[0m\u001b[1;33m\u001b[0m\u001b[0m\n\u001b[0m",
      "\u001b[1;32m<ipython-input-25-fa9d8f461b39>\u001b[0m in \u001b[0;36m__getitem__\u001b[1;34m(self, index)\u001b[0m\n\u001b[0;32m     35\u001b[0m         \u001b[1;32melse\u001b[0m\u001b[1;33m:\u001b[0m\u001b[1;33m\u001b[0m\u001b[1;33m\u001b[0m\u001b[0m\n\u001b[0;32m     36\u001b[0m             \u001b[0mmsq\u001b[0m \u001b[1;33m=\u001b[0m \u001b[1;34m'{cls.__name__} indices must be integers'\u001b[0m\u001b[1;33m\u001b[0m\u001b[1;33m\u001b[0m\u001b[0m\n\u001b[1;32m---> 37\u001b[1;33m             \u001b[1;32mraise\u001b[0m \u001b[0mTypeError\u001b[0m\u001b[1;33m(\u001b[0m\u001b[0mmsq\u001b[0m\u001b[1;33m.\u001b[0m\u001b[0mformat\u001b[0m\u001b[1;33m(\u001b[0m\u001b[0mcls\u001b[0m\u001b[1;33m=\u001b[0m\u001b[0mcls\u001b[0m\u001b[1;33m)\u001b[0m\u001b[1;33m)\u001b[0m\u001b[1;33m\u001b[0m\u001b[1;33m\u001b[0m\u001b[0m\n\u001b[0m",
      "\u001b[1;31mTypeError\u001b[0m: Vector indices must be integers"
     ]
    }
   ],
   "source": [
    "v_7 = Vector(range(7))\n",
    "print(v_7[-1])\n",
    "print(v_7[1:4])\n",
    "print(v_7[-1:])\n",
    "print(v_7[1,2])"
   ]
  },
  {
   "cell_type": "code",
   "execution_count": 31,
   "metadata": {},
   "outputs": [],
   "source": [
    "# Demo_10-8\n",
    "class Vector:\n",
    "    typecode = 'd' # 转换成浮点数\n",
    "    def __init__(self, components):\n",
    "        self._components = array(self.typecode, components)  # “受保护的”实例属性，把Vector的分量保存在一个数组中\n",
    "    def __iter__(self):\n",
    "        return iter(self._components)\n",
    "    def __repr__(self):\n",
    "        components = reprlib.repr(self._components) # 使用reprlib.repr（　）函数获取self._components的有限长度表示形式\n",
    "        components = components[components.find('['): -1]\n",
    "        return 'Vector({})'.format(components)\n",
    "    def __str__(self):\n",
    "        return str(tuple(self))\n",
    "    def __bytes__(self):\n",
    "        return (bytes([ord(self.typecode)]) + bytes(self._components))\n",
    "    def __eq__(self, other):\n",
    "        return tuple(self) == tuple(other)\n",
    "    def __abs__(self):\n",
    "        return math.sqrt(sum(x * x for x in self))\n",
    "    def __bool__(self):\n",
    "        return bool(abs(self))\n",
    "    @classmethod\n",
    "    def frombytes(cls, octets):\n",
    "        typecode = chr(octets[0])\n",
    "        memv = memoryview(octets[1:]).cast(typecode)\n",
    "        return cls(memv)\n",
    "    def __len__(self):\n",
    "        return len(self._components)\n",
    "    def __getitem__(self, index):\n",
    "        cls = type(self)\n",
    "        if isinstance(index, slice):\n",
    "            return cls(self._components[index]) # 调用类的构造方法，使用_components数组的切片构建一个新Vector实例\n",
    "        elif isinstance(index, numbers.Integral):\n",
    "            return self._components[index]\n",
    "        else:\n",
    "            msq = '{cls.__name__} indices must be integers'\n",
    "            raise TypeError(msq.format(cls=cls))\n",
    "    \n",
    "    shortcut_names = 'xyzt'\n",
    "    def __getattr__(self, name):  # 仅当对象没有指定名称的属性时，Python才会调用那个方法。\n",
    "        cls = type(self)\n",
    "        if 1 == len(name):\n",
    "            pos = cls.shortcut_names.find(name)\n",
    "            if 0 <= pos <= len(self._components):\n",
    "                return self._components[pos]\n",
    "        msg = '{.__name__!r} object has no attribute {!r}'\n",
    "        raise AttributeError(msg.format(cls, name))"
   ]
  },
  {
   "cell_type": "code",
   "execution_count": 32,
   "metadata": {},
   "outputs": [
    {
     "name": "stdout",
     "output_type": "stream",
     "text": [
      "0.0\n",
      "1.0\n",
      "2.0\n",
      "3.0\n"
     ]
    }
   ],
   "source": [
    "v_8 = Vector(range(10))\n",
    "print(v_8.x)\n",
    "print(v_8.y)\n",
    "print(v_8.z)\n",
    "print(v_8.t)"
   ]
  },
  {
   "cell_type": "code",
   "execution_count": 3,
   "metadata": {},
   "outputs": [],
   "source": [
    "# Demo_10-10\n",
    "class Vector:\n",
    "    typecode = 'd' # 转换成浮点数\n",
    "    def __init__(self, components):\n",
    "        self._components = array(self.typecode, components)  # “受保护的”实例属性，把Vector的分量保存在一个数组中\n",
    "    def __iter__(self):\n",
    "        return iter(self._components)\n",
    "    def __repr__(self):\n",
    "        components = reprlib.repr(self._components) # 使用reprlib.repr（　）函数获取self._components的有限长度表示形式\n",
    "        components = components[components.find('['): -1]\n",
    "        return 'Vector({})'.format(components)\n",
    "    def __str__(self):\n",
    "        return str(tuple(self))\n",
    "    def __bytes__(self):\n",
    "        return (bytes([ord(self.typecode)]) + bytes(self._components))\n",
    "    def __eq__(self, other):\n",
    "        return tuple(self) == tuple(other)\n",
    "    def __abs__(self):\n",
    "        return math.sqrt(sum(x * x for x in self))\n",
    "    def __bool__(self):\n",
    "        return bool(abs(self))\n",
    "    @classmethod\n",
    "    def frombytes(cls, octets):\n",
    "        typecode = chr(octets[0])\n",
    "        memv = memoryview(octets[1:]).cast(typecode)\n",
    "        return cls(memv)\n",
    "    def __len__(self):\n",
    "        return len(self._components)\n",
    "    def __getitem__(self, index):\n",
    "        cls = type(self)\n",
    "        if isinstance(index, slice):\n",
    "            return cls(self._components[index]) # 调用类的构造方法，使用_components数组的切片构建一个新Vector实例\n",
    "        elif isinstance(index, numbers.Integral):\n",
    "            return self._components[index]\n",
    "        else:\n",
    "            msq = '{cls.__name__} indices must be integers'\n",
    "            raise TypeError(msq.format(cls=cls))\n",
    "    \n",
    "    shortcut_names = 'xyzt'\n",
    "    def __getattr__(self, name):  # 仅当对象没有指定名称的属性时，Python才会调用那个方法。\n",
    "        cls = type(self)\n",
    "        if 1 == len(name):\n",
    "            pos = cls.shortcut_names.find(name)\n",
    "            if 0 <= pos <= len(self._components):\n",
    "                return self._components[pos]\n",
    "        msg = '{.__name__!r} object has no attribute {!r}'\n",
    "        raise AttributeError(msg.format(cls, name))\n",
    "    def __setter__(self, name, value):\n",
    "        cls = type(self)\n",
    "        if 1 == len(name):\n",
    "            if name in cls.shortcut_names:\n",
    "                error = ' readonly attribute {attr_name!r}'\n",
    "            elif name.islower():\n",
    "                error = 'can not set attributes \"a\" to \"z\" in {cls_name!r}'\n",
    "            else:\n",
    "                error = ''\n",
    "            if error:\n",
    "                msg = error.format(cls_name=cls.__name__, attr_name=name)\n",
    "                raise AttributeError(msg)\n",
    "        super().__setattr__(name, value)"
   ]
  },
  {
   "cell_type": "code",
   "execution_count": 11,
   "metadata": {},
   "outputs": [
    {
     "name": "stdout",
     "output_type": "stream",
     "text": [
      "1\n",
      "1\n",
      "1\n"
     ]
    }
   ],
   "source": [
    "# Demo_10-11 计算累计异或的3种方式\n",
    "\n",
    "import functools\n",
    "import operator\n",
    "\n",
    "# 第一种方法\n",
    "n = 0\n",
    "for i in range(1, 6):\n",
    "    n ^= i\n",
    "\n",
    "print(n)\n",
    "\n",
    "# 第二种方法\n",
    "n_2 = functools.reduce(lambda a, b: a^b, range(0,6))\n",
    "print(n_2)\n",
    "\n",
    "# 第三种方法\n",
    "n_3 = functools.reduce(operator.xor, range(6))\n",
    "print(n_3)"
   ]
  },
  {
   "cell_type": "code",
   "execution_count": 23,
   "metadata": {},
   "outputs": [],
   "source": [
    "# Demo_10-12\n",
    "\n",
    "from array import array\n",
    "import reprlib\n",
    "import math\n",
    "import functools\n",
    "import operator\n",
    "\n",
    "class Vector:\n",
    "    typecode = 'd' # 转换成浮点数\n",
    "    def __init__(self, components):\n",
    "        self._components = array(self.typecode, components)  # “受保护的”实例属性，把Vector的分量保存在一个数组中\n",
    "    def __iter__(self):\n",
    "        return iter(self._components)\n",
    "    def __repr__(self):\n",
    "        components = reprlib.repr(self._components) # 使用reprlib.repr（　）函数获取self._components的有限长度表示形式\n",
    "        components = components[components.find('['): -1]\n",
    "        return 'Vector({})'.format(components)\n",
    "    def __str__(self):\n",
    "        return str(tuple(self))\n",
    "    def __bytes__(self):\n",
    "        return (bytes([ord(self.typecode)]) + bytes(self._components))\n",
    "    def __eq__(self, other):\n",
    "        # 比较浪费内存\n",
    "        # return tuple(self) == tuple(other)\n",
    "        # 使用zip进行优化\n",
    "        if len(self) != len(other):\n",
    "            return False\n",
    "        for a, b in zip(self, other):\n",
    "            if a != b:\n",
    "                return False\n",
    "        return True\n",
    "        # 使用all 继续优化\n",
    "        # return len(self) == len(other) and all(a == b for a, b in zip(self, other))\n",
    "        \n",
    "    def __abs__(self):\n",
    "        return math.sqrt(sum(x * x for x in self))\n",
    "    def __bool__(self):\n",
    "        return bool(abs(self))\n",
    "    @classmethod\n",
    "    def frombytes(cls, octets):\n",
    "        typecode = chr(octets[0])\n",
    "        memv = memoryview(octets[1:]).cast(typecode)\n",
    "        return cls(memv)\n",
    "    def __len__(self):\n",
    "        return len(self._components)\n",
    "    def __getitem__(self, index):\n",
    "        cls = type(self)\n",
    "        if isinstance(index, slice):\n",
    "            return cls(self._components[index]) # 调用类的构造方法，使用_components数组的切片构建一个新Vector实例\n",
    "        elif isinstance(index, numbers.Integral):\n",
    "            return self._components[index]\n",
    "        else:\n",
    "            msq = '{cls.__name__} indices must be integers'\n",
    "            raise TypeError(msq.format(cls=cls))\n",
    "    \n",
    "    shortcut_names = 'xyzt'\n",
    "    def __getattr__(self, name):  # 仅当对象没有指定名称的属性时，Python才会调用那个方法。\n",
    "        cls = type(self)\n",
    "        if 1 == len(name):\n",
    "            pos = cls.shortcut_names.find(name)\n",
    "            if 0 <= pos <= len(self._components):\n",
    "                return self._components[pos]\n",
    "        msg = '{.__name__!r} object has no attribute {!r}'\n",
    "        raise AttributeError(msg.format(cls, name))      \n",
    "    def __setter__(self, name, value):\n",
    "        cls = type(self)\n",
    "        if 1 == len(name):\n",
    "            if name in cls.shortcut_names:\n",
    "                error = ' readonly attribute {attr_name!r}'\n",
    "            elif name.islower():\n",
    "                error = 'can not set attributes \"a\" to \"z\" in {cls_name!r}'\n",
    "            else:\n",
    "                error = ''\n",
    "            if error:\n",
    "                msg = error.format(cls_name=cls.__name__, attr_name=name)\n",
    "                raise AttributeError(msg)\n",
    "        super().__setattr__(name, value)\n",
    "        \n",
    "    def __hash__(self):\n",
    "        # hashes = (hash(x) for x in self._components)\n",
    "        hashes = map(hash, self._components)\n",
    "        return functools.reduce(operator.xor, hashes, 0)"
   ]
  },
  {
   "cell_type": "code",
   "execution_count": 29,
   "metadata": {},
   "outputs": [
    {
     "name": "stdout",
     "output_type": "stream",
     "text": [
      "<zip object at 0x000002399C1F7880>\n",
      "[(0, 'A'), (1, 'B'), (2, 'C')]\n",
      "[(0, 'A', 1.1), (1, 'B', 2.2), (2, 'C', 3.3)]\n",
      "[(0, 'A', 1.1), (1, 'B', 2.2), (2, 'C', 3.3), ('$$', '$$', 4.4)]\n"
     ]
    }
   ],
   "source": [
    "# Demo_10-15\n",
    "# zip内置函数的使用示例\n",
    "\n",
    "print(zip(range(3), 'ABC'))\n",
    "print(list(zip(range(3), 'ABC')))\n",
    "print(list(zip(range(3), 'ABC', (1.1, 2.2, 3.3, 4.4))))\n",
    "\n",
    "from itertools import zip_longest  # 以最长的序列进行拆分\n",
    "print(list(zip_longest(range(3), 'ABC', (1.1, 2.2, 3.3, 4.4), fillvalue='$$')))"
   ]
  },
  {
   "cell_type": "code",
   "execution_count": 30,
   "metadata": {},
   "outputs": [],
   "source": [
    "# Demo_10-16\n",
    "# 本章的终极代码\n",
    "\n",
    "from array import array\n",
    "import reprlib\n",
    "import math\n",
    "import functools\n",
    "import operator\n",
    "import itertools\n",
    "\n",
    "class Vector:\n",
    "    typecode = 'd' # 转换成浮点数\n",
    "    def __init__(self, components):\n",
    "        self._components = array(self.typecode, components)  # “受保护的”实例属性，把Vector的分量保存在一个数组中\n",
    "    def __iter__(self):\n",
    "        return iter(self._components)\n",
    "    def __repr__(self):\n",
    "        components = reprlib.repr(self._components) # 使用reprlib.repr（　）函数获取self._components的有限长度表示形式\n",
    "        components = components[components.find('['): -1]\n",
    "        return 'Vector({})'.format(components)\n",
    "    def __str__(self):\n",
    "        return str(tuple(self))\n",
    "    def __bytes__(self):\n",
    "        return (bytes([ord(self.typecode)]) + bytes(self._components))\n",
    "    def __eq__(self, other):\n",
    "        # 比较浪费内存\n",
    "        # return tuple(self) == tuple(other)\n",
    "        # 使用zip进行优化\n",
    "        if len(self) != len(other):\n",
    "            return False\n",
    "        for a, b in zip(self, other):\n",
    "            if a != b:\n",
    "                return False\n",
    "        return True\n",
    "        # 使用all 继续优化\n",
    "        # return len(self) == len(other) and all(a == b for a, b in zip(self, other))\n",
    "        \n",
    "    def __abs__(self):\n",
    "        return math.sqrt(sum(x * x for x in self))\n",
    "    def __bool__(self):\n",
    "        return bool(abs(self))\n",
    "    @classmethod\n",
    "    def frombytes(cls, octets):\n",
    "        typecode = chr(octets[0])\n",
    "        memv = memoryview(octets[1:]).cast(typecode)\n",
    "        return cls(memv)\n",
    "    def __len__(self):\n",
    "        return len(self._components)\n",
    "    def __getitem__(self, index):\n",
    "        cls = type(self)\n",
    "        if isinstance(index, slice):\n",
    "            return cls(self._components[index]) # 调用类的构造方法，使用_components数组的切片构建一个新Vector实例\n",
    "        elif isinstance(index, numbers.Integral):\n",
    "            return self._components[index]\n",
    "        else:\n",
    "            msq = '{cls.__name__} indices must be integers'\n",
    "            raise TypeError(msq.format(cls=cls))\n",
    "    \n",
    "    shortcut_names = 'xyzt'\n",
    "    def __getattr__(self, name):  # 仅当对象没有指定名称的属性时，Python才会调用那个方法。\n",
    "        cls = type(self)\n",
    "        if 1 == len(name):\n",
    "            pos = cls.shortcut_names.find(name)\n",
    "            if 0 <= pos <= len(self._components):\n",
    "                return self._components[pos]\n",
    "        msg = '{.__name__!r} object has no attribute {!r}'\n",
    "        raise AttributeError(msg.format(cls, name))      \n",
    "    def __setter__(self, name, value):\n",
    "        cls = type(self)\n",
    "        if 1 == len(name):\n",
    "            if name in cls.shortcut_names:\n",
    "                error = ' readonly attribute {attr_name!r}'\n",
    "            elif name.islower():\n",
    "                error = 'can not set attributes \"a\" to \"z\" in {cls_name!r}'\n",
    "            else:\n",
    "                error = ''\n",
    "            if error:\n",
    "                msg = error.format(cls_name=cls.__name__, attr_name=name)\n",
    "                raise AttributeError(msg)\n",
    "        super().__setattr__(name, value)\n",
    "        \n",
    "    def __hash__(self):\n",
    "        # hashes = (hash(x) for x in self._components)\n",
    "        hashes = map(hash, self._components)\n",
    "        return functools.reduce(operator.xor, hashes, 0)\n",
    "    \n",
    "    def angle(self, n):\n",
    "        r = math.sqrt(sum(x * x for x in self[n:]))\n",
    "        a = math.atan2(r, self[n-1])\n",
    "        if (n == len(self) -1) and (self[-1] < 0):\n",
    "            return math.pi * 2 - a\n",
    "        else:\n",
    "            return a\n",
    "    def angles(self):\n",
    "        return (self.angle(n) for n in range(1, len(self)))\n",
    "    def __format__(self, fmt_spec=''):\n",
    "        if fmt_spec.endswith('h'):\n",
    "            fmt_space = fmt_spec[:-1]\n",
    "            coords = itertools.chain([abs(self)], self.angles())\n",
    "            outer_fmt = '<{}>'\n",
    "        else:\n",
    "            coords = self\n",
    "            outer_fmt = '({})'\n",
    "        components = (format(c, fmt_spec) for c in coords)\n",
    "        return outer_fmt.format(', '.join(components))\n",
    "        "
   ]
  }
 ],
 "metadata": {
  "kernelspec": {
   "display_name": "Python 3",
   "language": "python",
   "name": "python3"
  },
  "language_info": {
   "codemirror_mode": {
    "name": "ipython",
    "version": 3
   },
   "file_extension": ".py",
   "mimetype": "text/x-python",
   "name": "python",
   "nbconvert_exporter": "python",
   "pygments_lexer": "ipython3",
   "version": "3.8.3"
  }
 },
 "nbformat": 4,
 "nbformat_minor": 4
}
