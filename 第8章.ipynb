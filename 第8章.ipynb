{
 "cells": [
  {
   "cell_type": "markdown",
   "metadata": {},
   "source": [
    "## 第八章\n",
    "\n",
    "- 变量不是盒子\n",
    "    - 变量是附加在对象上的标注\n",
    "    - 变量，类似于（便利贴）\n",
    "- “==” 和 “is”\n",
    "    - “==”比较两个对象的值\n",
    "    - “is”比较两个对象的标识，id\n",
    "    - 在变量和单例值之间比较时，应该用is\n",
    "    - “is”速度更快，因为不能重载\n",
    "    -  “==”是__eq__()的语法糖，很多类都进行了重载"
   ]
  },
  {
   "cell_type": "code",
   "execution_count": 1,
   "metadata": {},
   "outputs": [],
   "source": [
    "# 头文件\n"
   ]
  },
  {
   "cell_type": "code",
   "execution_count": 2,
   "metadata": {},
   "outputs": [
    {
     "data": {
      "text/plain": [
       "[1, 2, 3, 4]"
      ]
     },
     "execution_count": 2,
     "metadata": {},
     "output_type": "execute_result"
    }
   ],
   "source": [
    "# Demo_8-1\n",
    "a = [1, 2, 3]\n",
    "b = a\n",
    "a.append(4)\n",
    "b"
   ]
  },
  {
   "cell_type": "code",
   "execution_count": 15,
   "metadata": {},
   "outputs": [
    {
     "name": "stdout",
     "output_type": "stream",
     "text": [
      "Gizmo id:2821066715824\n",
      "Gizmo id:2821062785200\n",
      "unsupported operand type(s) for *: 'Gizmo' and 'int'\n",
      "['Gizmo', 'In', 'Out', '_', '_2', '_4', '_5', '_6', '_7', '__', '___', '__builtin__', '__builtins__', '__doc__', '__loader__', '__name__', '__package__', '__spec__', '_dh', '_i', '_i1', '_i10', '_i11', '_i12', '_i13', '_i14', '_i15', '_i2', '_i3', '_i4', '_i5', '_i6', '_i7', '_i8', '_i9', '_ih', '_ii', '_iii', '_oh', 'a', 'b', 'exit', 'get_ipython', 'quit', 'x']\n"
     ]
    }
   ],
   "source": [
    "# Demo_8-2\n",
    "class Gizmo:\n",
    "    def __init__(self):\n",
    "        print('Gizmo id:%d' % id(self))\n",
    "\n",
    "x = Gizmo()\n",
    "try:\n",
    "    y = Gizmo() * 10\n",
    "except TypeError as e:\n",
    "    print(e)\n",
    "finally:\n",
    "    print(dir())  # 肯定没有创建‘y’"
   ]
  },
  {
   "cell_type": "code",
   "execution_count": 19,
   "metadata": {
    "scrolled": false
   },
   "outputs": [
    {
     "name": "stdout",
     "output_type": "stream",
     "text": [
      "True\n",
      "2821060171392\n",
      "2821060171392\n"
     ]
    },
    {
     "data": {
      "text/plain": [
       "{'name': 'Charles L. Dodgson', 'born': 1832, 'balance': 950}"
      ]
     },
     "execution_count": 19,
     "metadata": {},
     "output_type": "execute_result"
    }
   ],
   "source": [
    "# Demo_8-3\n",
    "charles = {'name': 'Charles L. Dodgson', 'born': 1832}\n",
    "lewis = charles\n",
    "print(lewis == charles)\n",
    "print(id(charles))\n",
    "print(id(lewis))\n",
    "lewis['balance'] = 950\n",
    "charles\n",
    "# charles 和 lewis 是别名的关系， 两个变量绑定在同一个对象\n"
   ]
  },
  {
   "cell_type": "code",
   "execution_count": 23,
   "metadata": {},
   "outputs": [
    {
     "name": "stdout",
     "output_type": "stream",
     "text": [
      "True\n",
      "True\n",
      "alex id: 2821043162368\n",
      "charles id: 2821060171392\n"
     ]
    }
   ],
   "source": [
    "# Demo_8-4\n",
    "alex = {'name': 'Charles L. Dodgson', 'born': 1832, 'balance': 950}\n",
    "print(alex == charles)  # 比较两个对象，内容是相同的\n",
    "print(alex is not charles)  # 但是他们是不同的对象\n",
    "print('alex id:', id(alex))\n",
    "print('charles id:', id(charles))\n",
    "# alex 和 charles 是两个内容相同的不同对象的变量"
   ]
  },
  {
   "cell_type": "code",
   "execution_count": 25,
   "metadata": {},
   "outputs": [
    {
     "name": "stdout",
     "output_type": "stream",
     "text": [
      "True\n",
      "2821042835072\n",
      "2821042835072\n",
      "False\n"
     ]
    }
   ],
   "source": [
    "tuple_1 = (1, 2, [30, 40])\n",
    "tuple_2 = (1, 2, [30, 40])\n",
    "print(tuple_1 == tuple_2)\n",
    "print(id(tuple_1[-1]))\n",
    "tuple_1[-1].append(99)\n",
    "print(id(tuple_1[-1]))\n",
    "print(tuple_1 == tuple_2)"
   ]
  },
  {
   "cell_type": "code",
   "execution_count": null,
   "metadata": {},
   "outputs": [],
   "source": []
  }
 ],
 "metadata": {
  "kernelspec": {
   "display_name": "Python 3",
   "language": "python",
   "name": "python3"
  },
  "language_info": {
   "codemirror_mode": {
    "name": "ipython",
    "version": 3
   },
   "file_extension": ".py",
   "mimetype": "text/x-python",
   "name": "python",
   "nbconvert_exporter": "python",
   "pygments_lexer": "ipython3",
   "version": "3.8.3"
  }
 },
 "nbformat": 4,
 "nbformat_minor": 4
}
