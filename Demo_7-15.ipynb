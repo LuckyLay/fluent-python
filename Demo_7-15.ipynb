{
 "cells": [
  {
   "cell_type": "markdown",
   "metadata": {
    "collapsed": true,
    "pycharm": {
     "name": "#%% md\n"
    }
   },
   "source": [
    "## 一个简单的装饰器\n",
    "## 标准库中的装饰器\n"
   ]
  },
  {
   "cell_type": "code",
   "execution_count": 43,
   "outputs": [],
   "source": [
    "# 头文件\n",
    "import time\n",
    "import functools\n",
    "import html\n",
    "import collections\n",
    "import numbers"
   ],
   "metadata": {
    "collapsed": false,
    "pycharm": {
     "name": "#%%\n"
    }
   }
  },
  {
   "cell_type": "code",
   "execution_count": 15,
   "outputs": [],
   "source": [
    "def clock(func):\n",
    "    def clocked(*args):\n",
    "        t_0 = time.perf_counter()\n",
    "        result = func(*args)\n",
    "        elapsed = time.perf_counter() - t_0\n",
    "        name = func.__name__\n",
    "        arg_str = \", \".join(repr(arg) for arg in args)\n",
    "        print('[%0.8fs]%s(%s)->%r' % (elapsed, name, arg_str, result))\n",
    "        return result\n",
    "    return clocked\n"
   ],
   "metadata": {
    "collapsed": false,
    "pycharm": {
     "name": "#%%\n"
    }
   }
  },
  {
   "cell_type": "code",
   "execution_count": 16,
   "outputs": [
    {
     "name": "stdout",
     "output_type": "stream",
     "text": [
      "[3.99962140s]snooze(4)->None\n",
      "[0.00000140s]factorial(1)->1\n",
      "[0.00005710s]factorial(2)->2\n",
      "[0.00008570s]factorial(3)->6\n",
      "[0.00011390s]factorial(4)->24\n",
      "[0.00013990s]factorial(5)->120\n",
      "[0.00016530s]factorial(6)->720\n",
      "[0.00018880s]factorial(7)->5040\n",
      "[0.00021180s]factorial(8)->40320\n",
      "[0.00024070s]factorial(9)->362880\n",
      "[0.00026680s]factorial(10)->3628800\n",
      "[0.00029190s]factorial(11)->39916800\n",
      "[0.00031460s]factorial(12)->479001600\n",
      "[0.00033680s]factorial(13)->6227020800\n",
      "[0.00036630s]factorial(14)->87178291200\n",
      "[0.00039190s]factorial(15)->1307674368000\n",
      "[0.00041750s]factorial(16)->20922789888000\n",
      "[0.00044760s]factorial(17)->355687428096000\n",
      "[0.00047070s]factorial(18)->6402373705728000\n",
      "[0.00049970s]factorial(19)->121645100408832000\n",
      "[0.00052240s]factorial(20)->2432902008176640000\n",
      "[0.00054550s]factorial(21)->51090942171709440000\n",
      "[0.00057130s]factorial(22)->1124000727777607680000\n",
      "[0.00059470s]factorial(23)->25852016738884976640000\n",
      "[0.00061950s]factorial(24)->620448401733239439360000\n",
      "[0.00064510s]factorial(25)->15511210043330985984000000\n",
      "[0.00066950s]factorial(26)->403291461126605635584000000\n",
      "[0.00069340s]factorial(27)->10888869450418352160768000000\n",
      "[0.00071730s]factorial(28)->304888344611713860501504000000\n",
      "[0.00074450s]factorial(29)->8841761993739701954543616000000\n",
      "[0.00076780s]factorial(30)->265252859812191058636308480000000\n",
      "[0.00079440s]factorial(31)->8222838654177922817725562880000000\n",
      "[0.00082050s]factorial(32)->263130836933693530167218012160000000\n",
      "[0.00084620s]factorial(33)->8683317618811886495518194401280000000\n",
      "[0.00087170s]factorial(34)->295232799039604140847618609643520000000\n",
      "[0.00089600s]factorial(35)->10333147966386144929666651337523200000000\n",
      "[0.00091920s]factorial(36)->371993326789901217467999448150835200000000\n",
      "[0.00210660s]factorial(37)->13763753091226345046315979581580902400000000\n",
      "[0.00217840s]factorial(38)->523022617466601111760007224100074291200000000\n",
      "[0.00221190s]factorial(39)->20397882081197443358640281739902897356800000000\n",
      "[0.00224050s]factorial(40)->815915283247897734345611269596115894272000000000\n",
      "[0.00228280s]factorial(41)->33452526613163807108170062053440751665152000000000\n",
      "[0.00230840s]factorial(42)->1405006117752879898543142606244511569936384000000000\n",
      "[0.00233880s]factorial(43)->60415263063373835637355132068513997507264512000000000\n",
      "[0.00236530s]factorial(44)->2658271574788448768043625811014615890319638528000000000\n",
      "[0.00239160s]factorial(45)->119622220865480194561963161495657715064383733760000000000\n",
      "[0.00241520s]factorial(46)->5502622159812088949850305428800254892961651752960000000000\n",
      "[0.00243830s]factorial(47)->258623241511168180642964355153611979969197632389120000000000\n",
      "[0.00246830s]factorial(48)->12413915592536072670862289047373375038521486354677760000000000\n",
      "[0.00247640s]factorial(49)->608281864034267560872252163321295376887552831379210240000000000\n",
      "[0.00248420s]factorial(50)->30414093201713378043612608166064768844377641568960512000000000000\n",
      "[0.00249430s]factorial(51)->1551118753287382280224243016469303211063259720016986112000000000000\n",
      "[0.00250250s]factorial(52)->80658175170943878571660636856403766975289505440883277824000000000000\n",
      "[0.00251060s]factorial(53)->4274883284060025564298013753389399649690343788366813724672000000000000\n",
      "[0.00251970s]factorial(54)->230843697339241380472092742683027581083278564571807941132288000000000000\n",
      "[0.00252870s]factorial(55)->12696403353658275925965100847566516959580321051449436762275840000000000000\n",
      "[0.00253760s]factorial(56)->710998587804863451854045647463724949736497978881168458687447040000000000000\n",
      "[0.00254780s]factorial(57)->40526919504877216755680601905432322134980384796226602145184481280000000000000\n",
      "[0.00255670s]factorial(58)->2350561331282878571829474910515074683828862318181142924420699914240000000000000\n",
      "[0.00256610s]factorial(59)->138683118545689835737939019720389406345902876772687432540821294940160000000000000\n",
      "[0.00257530s]factorial(60)->8320987112741390144276341183223364380754172606361245952449277696409600000000000000\n",
      "[0.00258480s]factorial(61)->507580213877224798800856812176625227226004528988036003099405939480985600000000000000\n",
      "[0.00259550s]factorial(62)->31469973260387937525653122354950764088012280797258232192163168247821107200000000000000\n",
      "[0.00260500s]factorial(63)->1982608315404440064116146708361898137544773690227268628106279599612729753600000000000000\n",
      "[0.00261460s]factorial(64)->126886932185884164103433389335161480802865516174545192198801894375214704230400000000000000\n",
      "[0.00262440s]factorial(65)->8247650592082470666723170306785496252186258551345437492922123134388955774976000000000000000\n",
      "[0.00263390s]factorial(66)->544344939077443064003729240247842752644293064388798874532860126869671081148416000000000000000\n",
      "[0.00264350s]factorial(67)->36471110918188685288249859096605464427167635314049524593701628500267962436943872000000000000000\n",
      "[0.00265260s]factorial(68)->2480035542436830599600990418569171581047399201355367672371710738018221445712183296000000000000000\n",
      "[0.00266210s]factorial(69)->171122452428141311372468338881272839092270544893520369393648040923257279754140647424000000000000000\n",
      "[0.00267220s]factorial(70)->11978571669969891796072783721689098736458938142546425857555362864628009582789845319680000000000000000\n",
      "[0.00268140s]factorial(71)->850478588567862317521167644239926010288584608120796235886430763388588680378079017697280000000000000000\n",
      "[0.00269080s]factorial(72)->61234458376886086861524070385274672740778091784697328983823014963978384987221689274204160000000000000000\n",
      "[0.00270020s]factorial(73)->4470115461512684340891257138125051110076800700282905015819080092370422104067183317016903680000000000000000\n",
      "[0.00270980s]factorial(74)->330788544151938641225953028221253782145683251820934971170611926835411235700971565459250872320000000000000000\n",
      "[0.00271900s]factorial(75)->24809140811395398091946477116594033660926243886570122837795894512655842677572867409443815424000000000000000000\n",
      "[0.00272920s]factorial(76)->1885494701666050254987932260861146558230394535379329335672487982961844043495537923117729972224000000000000000000\n",
      "[0.00273920s]factorial(77)->145183092028285869634070784086308284983740379224208358846781574688061991349156420080065207861248000000000000000000\n",
      "[0.00274890s]factorial(78)->11324281178206297831457521158732046228731749579488251990048962825668835325234200766245086213177344000000000000000000\n",
      "[0.00275840s]factorial(79)->894618213078297528685144171539831652069808216779571907213868063227837990693501860533361810841010176000000000000000000\n",
      "[0.00276770s]factorial(80)->71569457046263802294811533723186532165584657342365752577109445058227039255480148842668944867280814080000000000000000000\n",
      "[0.00277680s]factorial(81)->5797126020747367985879734231578109105412357244731625958745865049716390179693892056256184534249745940480000000000000000000\n",
      "[0.00278710s]factorial(82)->475364333701284174842138206989404946643813294067993328617160934076743994734899148613007131808479167119360000000000000000000\n",
      "[0.00279690s]factorial(83)->39455239697206586511897471180120610571436503407643446275224357528369751562996629334879591940103770870906880000000000000000000\n",
      "[0.00280670s]factorial(84)->3314240134565353266999387579130131288000666286242049487118846032383059131291716864129885722968716753156177920000000000000000000\n",
      "[0.00281660s]factorial(85)->281710411438055027694947944226061159480056634330574206405101912752560026159795933451040286452340924018275123200000000000000000000\n",
      "[0.00282680s]factorial(86)->24227095383672732381765523203441259715284870552429381750838764496720162249742450276789464634901319465571660595200000000000000000000\n",
      "[0.00283680s]factorial(87)->2107757298379527717213600518699389595229783738061356212322972511214654115727593174080683423236414793504734471782400000000000000000000\n",
      "[0.00284650s]factorial(88)->185482642257398439114796845645546284380220968949399346684421580986889562184028199319100141244804501828416633516851200000000000000000000\n",
      "[0.00285600s]factorial(89)->16507955160908461081216919262453619309839666236496541854913520707833171034378509739399912570787600662729080382999756800000000000000000000\n",
      "[0.00286580s]factorial(90)->1485715964481761497309522733620825737885569961284688766942216863704985393094065876545992131370884059645617234469978112000000000000000000000\n",
      "[0.00287550s]factorial(91)->135200152767840296255166568759495142147586866476906677791741734597153670771559994765685283954750449427751168336768008192000000000000000000000\n",
      "[0.00288520s]factorial(92)->12438414054641307255475324325873553077577991715875414356840239582938137710983519518443046123837041347353107486982656753664000000000000000000000\n",
      "[0.00289500s]factorial(93)->1156772507081641574759205162306240436214753229576413535186142281213246807121467315215203289516844845303838996289387078090752000000000000000000000\n",
      "[0.00290520s]factorial(94)->108736615665674308027365285256786601004186803580182872307497374434045199869417927630229109214583415458560865651202385340530688000000000000000000000\n",
      "[0.00291460s]factorial(95)->10329978488239059262599702099394727095397746340117372869212250571234293987594703124871765375385424468563282236864226607350415360000000000000000000000\n",
      "[0.00292510s]factorial(96)->991677934870949689209571401541893801158183648651267795444376054838492222809091499987689476037000748982075094738965754305639874560000000000000000000000\n",
      "[0.00293490s]factorial(97)->96192759682482119853328425949563698712343813919172976158104477319333745612481875498805879175589072651261284189679678167647067832320000000000000000000000\n",
      "[0.00294440s]factorial(98)->9426890448883247745626185743057242473809693764078951663494238777294707070023223798882976159207729119823605850588608460429412647567360000000000000000000000\n",
      "[0.00295390s]factorial(99)->933262154439441526816992388562667004907159682643816214685929638952175999932299156089414639761565182862536979208272237582511852109168640000000000000000000000\n",
      "[0.00296500s]factorial(100)->93326215443944152681699238856266700490715968264381621468592963895217599993229915608941463976156518286253697920827223758251185210916864000000000000000000000000\n",
      "clocked\n"
     ]
    }
   ],
   "source": [
    "@clock\n",
    "def snooze(seconds):\n",
    "    time.sleep(seconds)\n",
    "\n",
    "\n",
    "@clock\n",
    "def factorial(n):\n",
    "    return 1 if n < 2 else n * factorial(n-1)\n",
    "\n",
    "snooze(4)\n",
    "factorial(100)\n",
    "\n",
    "print(factorial.__name__)\n",
    "\n"
   ],
   "metadata": {
    "collapsed": false,
    "pycharm": {
     "name": "#%%\n"
    }
   }
  },
  {
   "cell_type": "markdown",
   "source": [
    "### 装饰器的典型行为：\n",
    "- 把被装饰的函数替换成新函数\n",
    "- 二者接受相同的参数\n",
    "- 赶回被装饰的函数本该返回的值，同时还会做一些额外的操作"
   ],
   "metadata": {
    "collapsed": false,
    "pycharm": {
     "name": "#%% md\n"
    }
   }
  },
  {
   "cell_type": "code",
   "execution_count": 17,
   "outputs": [],
   "source": [
    "#import functools\n",
    "\n",
    "# Demo_7-17\n",
    "def clock_2(func):\n",
    "\n",
    "    @functools.wraps(func)\n",
    "    def clocked(*args, **kwargs):\n",
    "        t_0 = time.perf_counter()\n",
    "        result = func(*args, **kwargs)\n",
    "        elapsed = time.perf_counter() - t_0\n",
    "        name = func.__name__\n",
    "        args_list = []\n",
    "        if args:\n",
    "            args_list.append(', '.join(repr(arg) for arg in args))\n",
    "        if kwargs:\n",
    "            pairs = ['%s=%r' % (k, w) for k, w in sorted(kwargs.items())]\n",
    "            args_list.append(', '.join(pairs))\n",
    "        arg_str = ', '.join(args_list)\n",
    "        print('[%0.8fs]%s(%s)->%r' % (elapsed, name, arg_str, result))\n",
    "        return result\n",
    "    return clocked\n"
   ],
   "metadata": {
    "collapsed": false,
    "pycharm": {
     "name": "#%%\n"
    }
   }
  },
  {
   "cell_type": "code",
   "execution_count": 22,
   "outputs": [
    {
     "name": "stdout",
     "output_type": "stream",
     "text": [
      "[3.99936560s]snooze(4)->None\n",
      "[0.00000140s]factorial(1)->1\n",
      "[0.00010270s]factorial(2)->2\n",
      "[0.00101920s]factorial(3)->6\n",
      "[0.00110930s]factorial(4)->24\n",
      "[0.00116010s]factorial(5)->120\n",
      "[0.00120600s]factorial(6)->720\n",
      "[0.00125180s]factorial(7)->5040\n",
      "[0.00129230s]factorial(8)->40320\n",
      "[0.00133750s]factorial(9)->362880\n",
      "[0.00138480s]factorial(10)->3628800\n",
      "factorial\n"
     ]
    }
   ],
   "source": [
    "@clock_2\n",
    "def snooze(seconds):\n",
    "    time.sleep(seconds)\n",
    "\n",
    "\n",
    "@clock_2\n",
    "def factorial(n):\n",
    "    return 1 if n < 2 else n * factorial(n-1)\n",
    "\n",
    "snooze(4)\n",
    "factorial(10)\n",
    "\n",
    "print(factorial.__name__)"
   ],
   "metadata": {
    "collapsed": false,
    "pycharm": {
     "name": "#%%\n"
    }
   }
  },
  {
   "cell_type": "code",
   "execution_count": 24,
   "outputs": [
    {
     "name": "stdout",
     "output_type": "stream",
     "text": [
      "[0.00000040s]fibonacci(0)->0\n",
      "[0.00000030s]fibonacci(1)->1\n",
      "[0.00004250s]fibonacci(2)->1\n",
      "[0.00000020s]fibonacci(1)->1\n",
      "[0.00000070s]fibonacci(0)->0\n",
      "[0.00000020s]fibonacci(1)->1\n",
      "[0.00009630s]fibonacci(2)->1\n",
      "[0.00012130s]fibonacci(3)->2\n",
      "[0.00018040s]fibonacci(4)->3\n",
      "[0.00000020s]fibonacci(1)->1\n",
      "[0.00000020s]fibonacci(0)->0\n",
      "[0.00000030s]fibonacci(1)->1\n",
      "[0.00001790s]fibonacci(2)->1\n",
      "[0.00003840s]fibonacci(3)->2\n",
      "[0.00000020s]fibonacci(0)->0\n",
      "[0.00000020s]fibonacci(1)->1\n",
      "[0.00001480s]fibonacci(2)->1\n",
      "[0.00000020s]fibonacci(1)->1\n",
      "[0.00000020s]fibonacci(0)->0\n",
      "[0.00000020s]fibonacci(1)->1\n",
      "[0.00001740s]fibonacci(2)->1\n",
      "[0.00003420s]fibonacci(3)->2\n",
      "[0.00006410s]fibonacci(4)->3\n",
      "[0.00011880s]fibonacci(5)->5\n",
      "[0.00031650s]fibonacci(6)->8\n",
      "8\n"
     ]
    }
   ],
   "source": [
    "@clock_2\n",
    "def fibonacci(n):\n",
    "    return n if n < 2 else fibonacci(n-2) + fibonacci(n-1)\n",
    "\n",
    "print(fibonacci(6))"
   ],
   "metadata": {
    "collapsed": false,
    "pycharm": {
     "name": "#%%\n"
    }
   }
  },
  {
   "cell_type": "code",
   "execution_count": 25,
   "outputs": [
    {
     "name": "stdout",
     "output_type": "stream",
     "text": [
      "[0.00000040s]fibonacci_2(0)->0\n",
      "[0.00000030s]fibonacci_2(1)->1\n",
      "[0.00005410s]fibonacci_2(2)->1\n",
      "[0.00000050s]fibonacci_2(3)->2\n",
      "[0.00007250s]fibonacci_2(4)->3\n",
      "[0.00000040s]fibonacci_2(5)->5\n",
      "[0.00009150s]fibonacci_2(6)->8\n",
      "8\n"
     ]
    }
   ],
   "source": [
    "# fibonacci 中多次调用相同内容，浪费时间。\n",
    "# 使用lru_cache记录计算结果\n",
    "@functools.lru_cache()\n",
    "@clock_2\n",
    "def fibonacci_2(n):\n",
    "    return n if n < 2 else fibonacci_2(n-2) + fibonacci_2(n-1)\n",
    "\n",
    "print(fibonacci_2(6))"
   ],
   "metadata": {
    "collapsed": false,
    "pycharm": {
     "name": "#%%\n"
    }
   }
  },
  {
   "cell_type": "markdown",
   "source": [
    "### lru_cache（）\n",
    "- 参数\n",
    "    - maxsize：制定存储多少个调用结果，设为2的幂数\n",
    "    - typed：如果为true，把不同类型得到的结果分开保存\n",
    "- 注意：\n",
    "    - 被装饰的函数的参数，都必须是可散列的。"
   ],
   "metadata": {
    "collapsed": false
   }
  },
  {
   "cell_type": "code",
   "execution_count": 28,
   "outputs": [],
   "source": [
    "def htmlize(obj):\n",
    "    content = html.escape(repr(obj))\n",
    "    return '<pre>{}</pre>'.format(content)"
   ],
   "metadata": {
    "collapsed": false,
    "pycharm": {
     "name": "#%%\n"
    }
   }
  },
  {
   "cell_type": "code",
   "execution_count": 44,
   "outputs": [
    {
     "name": "stdout",
     "output_type": "stream",
     "text": [
      "<pre>{1, 2, 3}</pre>\n",
      "<pre>&lt;built-in function abs&gt;</pre>\n",
      "<pre>42</pre>\n"
     ]
    }
   ],
   "source": [
    "print(htmlize({1, 2, 3}))\n",
    "\n",
    "print(htmlize(abs))\n",
    "\n",
    "print(htmlize(42))"
   ],
   "metadata": {
    "collapsed": false,
    "pycharm": {
     "name": "#%%\n"
    }
   }
  },
  {
   "cell_type": "code",
   "execution_count": 52,
   "outputs": [],
   "source": [
    "@functools.singledispatch\n",
    "def htmlize_2(obj):\n",
    "    content = html.escape(repr(obj))\n",
    "    return '<pre>{}</pre>'.format(content)\n",
    "\n",
    "@htmlize_2.register(str)\n",
    "def _(text):\n",
    "    content = html.escape(text).replace('\\n', '<br>\\n')\n",
    "    return '<p>{0}</p>'.format(content)\n",
    "\n",
    "@htmlize_2.register(numbers.Integral)\n",
    "def _(n):\n",
    "    return '<pre>{0} (0x{0:o})</pre>'.format(n)\n",
    "\n",
    "@htmlize_2.register(tuple)\n",
    "@htmlize_2.register(collections.abc.MutableSequence)\n",
    "def _(seq):\n",
    "    inner = '</li>\\n<li>'.join((htmlize_2(item) for item in seq))\n",
    "    return '<ul>\\n<li>' + inner + '</li>\\n</ul>'\n",
    "\n"
   ],
   "metadata": {
    "collapsed": false,
    "pycharm": {
     "name": "#%%\n"
    }
   }
  },
  {
   "cell_type": "code",
   "execution_count": 56,
   "outputs": [
    {
     "name": "stdout",
     "output_type": "stream",
     "text": [
      "<p>hello world <br>\n",
      "</p>\n",
      "<pre>100 (0x144)</pre>\n",
      "<ul>\n",
      "<li><pre>1 (0x1)</pre></li>\n",
      "<li><pre>2 (0x2)</pre></li>\n",
      "<li><pre>3 (0x3)</pre></li>\n",
      "<li><pre>4 (0x4)</pre></li>\n",
      "</ul>\n"
     ]
    }
   ],
   "source": [
    "print(htmlize_2('hello world \\n'))\n",
    "\n",
    "print(htmlize_2(100))\n",
    "\n",
    "print(htmlize_2((1,2,3,4)))"
   ],
   "metadata": {
    "collapsed": false,
    "pycharm": {
     "name": "#%%\n"
    }
   }
  },
  {
   "cell_type": "markdown",
   "source": [
    "### 叠放装饰器\n",
    "\n",
    "- 先执行离函数近的装饰器"
   ],
   "metadata": {
    "collapsed": false,
    "pycharm": {
     "name": "#%% md\n"
    }
   }
  },
  {
   "cell_type": "markdown",
   "source": [
    "### 装饰器参数\n",
    "- 装饰器工厂函数"
   ],
   "metadata": {
    "collapsed": false,
    "pycharm": {
     "name": "#%% md\n"
    }
   }
  },
  {
   "cell_type": "code",
   "execution_count": 58,
   "outputs": [
    {
     "name": "stdout",
     "output_type": "stream",
     "text": [
      "running register(active=False)->decorate(func_1)\n",
      "running register(active=True)->decorate(func_2)\n"
     ]
    }
   ],
   "source": [
    "registry = set()\n",
    "\n",
    "def register(active=True):\n",
    "    def decorate(func):\n",
    "        print('running register(active=%s)->decorate(%s)' % (active, func.__name__))\n",
    "        if active:\n",
    "            registry.add(func)\n",
    "        else:\n",
    "            registry.discard(func)\n",
    "        return func\n",
    "    return decorate\n",
    "\n",
    "\n",
    "@register(False)\n",
    "def func_1():\n",
    "    print('running func_1')\n",
    "\n",
    "@register(True)\n",
    "def func_2():\n",
    "    print('running func_2')"
   ],
   "metadata": {
    "collapsed": false,
    "pycharm": {
     "name": "#%%\n"
    }
   }
  },
  {
   "cell_type": "code",
   "execution_count": 61,
   "outputs": [
    {
     "name": "stdout",
     "output_type": "stream",
     "text": [
      "running func_1\n",
      "func_1, registry: {<function func_2 at 0x0000027083BB2D30>}\n",
      "running func_2\n",
      "func_2, registry: {<function func_2 at 0x0000027083BB2D30>}\n"
     ]
    }
   ],
   "source": [
    "func_1()\n",
    "print('func_1, registry:', registry)\n",
    "func_2()\n",
    "print('func_2, registry:', registry)\n",
    "\n"
   ],
   "metadata": {
    "collapsed": false,
    "pycharm": {
     "name": "#%%\n"
    }
   }
  },
  {
   "cell_type": "code",
   "execution_count": 62,
   "outputs": [],
   "source": [
    "DEFAULT_FMT = '[{elapsed:0.8f}s] {name}({args})->{result}'\n",
    "def clock_3(fmt=DEFAULT_FMT):\n",
    "    def decorate(func):\n",
    "        def clocked(*args, **kwargs):\n",
    "            t_0 = time.perf_counter()\n",
    "            result = func(*args, **kwargs)\n",
    "            elapsed = time.perf_counter() - t_0\n",
    "            name = func.__name__\n",
    "            args_list = []\n",
    "            if args:\n",
    "                args_list.append(', '.join(repr(arg) for arg in args))\n",
    "            if kwargs:\n",
    "                pairs = ['%s=%r' % (k, w) for k, w in sorted(kwargs.items())]\n",
    "                args_list.append(', '.join(pairs))\n",
    "            arg_str = ', '.join(args_list)\n",
    "            # print(fmt.format(elapsed=elapsed, name=name, args=arg_str, result=result))\n",
    "            print(fmt.format(**locals()))\n",
    "            return result\n",
    "        return clocked\n",
    "    return decorate\n",
    "\n",
    "\n",
    "@clock_3()\n",
    "def snooze(seconds):\n",
    "    time.sleep(seconds)"
   ],
   "metadata": {
    "collapsed": false,
    "pycharm": {
     "name": "#%%\n"
    }
   }
  },
  {
   "cell_type": "code",
   "execution_count": 64,
   "outputs": [
    {
     "name": "stdout",
     "output_type": "stream",
     "text": [
      "[0.00000820s] snooze((0.0,))->None\n",
      "[0.10026900s] snooze((0.1,))->None\n",
      "[0.19997480s] snooze((0.2,))->None\n",
      "[0.30032070s] snooze((0.3,))->None\n",
      "[0.40077160s] snooze((0.4,))->None\n"
     ]
    }
   ],
   "source": [
    "for i in range(5):\n",
    "    snooze(i/10)"
   ],
   "metadata": {
    "collapsed": false,
    "pycharm": {
     "name": "#%%\n"
    }
   }
  },
  {
   "cell_type": "markdown",
   "source": [
    "## 第七章 End\n",
    "\n"
   ],
   "metadata": {
    "collapsed": false,
    "pycharm": {
     "name": "#%% md\n"
    }
   }
  }
 ],
 "metadata": {
  "kernelspec": {
   "display_name": "Python 3",
   "language": "python",
   "name": "python3"
  },
  "language_info": {
   "codemirror_mode": {
    "name": "ipython",
    "version": 2
   },
   "file_extension": ".py",
   "mimetype": "text/x-python",
   "name": "python",
   "nbconvert_exporter": "python",
   "pygments_lexer": "ipython2",
   "version": "2.7.6"
  }
 },
 "nbformat": 4,
 "nbformat_minor": 0
}