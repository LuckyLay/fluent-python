{
 "cells": [
  {
   "cell_type": "markdown",
   "metadata": {
    "collapsed": true,
    "pycharm": {
     "name": "#%% md\n"
    }
   },
   "source": [
    "# 闭包\n",
    "\n"
   ]
  },
  {
   "cell_type": "code",
   "source": [
    "class Averager:\n",
    "\n",
    "    def __init__(self):\n",
    "        self.series = []\n",
    "\n",
    "    def __call__(self, *args, **kwargs):\n",
    "         new_value = args[0]\n",
    "         self.series.append(new_value)\n",
    "         total = sum(self.series)\n",
    "         print(total / len(self.series))\n",
    "\n",
    "aver = Averager()\n",
    "aver(10)\n",
    "aver(11)\n",
    "aver(12)"
   ],
   "metadata": {
    "collapsed": false,
    "pycharm": {
     "name": "#%%\n"
    }
   },
   "execution_count": 4,
   "outputs": [
    {
     "name": "stdout",
     "output_type": "stream",
     "text": [
      "10.0\n",
      "10.5\n",
      "11.0\n"
     ]
    }
   ]
  },
  {
   "cell_type": "code",
   "execution_count": 7,
   "outputs": [
    {
     "data": {
      "text/plain": "10.0"
     },
     "execution_count": 7,
     "metadata": {},
     "output_type": "execute_result"
    }
   ],
   "source": [
    "# 使用函数，实现上述功能\n",
    "def make_averager():\n",
    "    series = []\n",
    "    def averager(new_value):\n",
    "        series.append(new_value)\n",
    "        return sum(series) / len(series)\n",
    "    return averager\n",
    "\n",
    "aver_2 = make_averager()\n",
    "print(aver_2(10))\n",
    "print(aver_2(11))\n",
    "print(aver_2(12))\n"
   ],
   "metadata": {
    "collapsed": false,
    "pycharm": {
     "name": "#%%\n"
    }
   }
  },
  {
   "cell_type": "markdown",
   "source": [
    "- series 是make_averager的局部变量\n",
    "- 调用aver_2(10)时，make_averager已经返回了，它的本地作用于也消失了\n",
    "- 在averager函数中，series是自由变量（free variable)\n",
    "- 自由变量：指未在本地作用域中绑定的变量\n"
   ],
   "metadata": {
    "collapsed": false,
    "pycharm": {
     "name": "#%% md\n"
    }
   }
  },
  {
   "cell_type": "code",
   "execution_count": 14,
   "outputs": [
    {
     "name": "stdout",
     "output_type": "stream",
     "text": [
      "('new_value',)\n",
      "('series',)\n"
     ]
    }
   ],
   "source": [
    "print(aver_2.__code__.co_varnames )\n",
    "print(aver_2.__code__.co_freevars )"
   ],
   "metadata": {
    "collapsed": false,
    "pycharm": {
     "name": "#%%\n"
    }
   }
  },
  {
   "cell_type": "code",
   "execution_count": 16,
   "outputs": [
    {
     "name": "stdout",
     "output_type": "stream",
     "text": [
      "('series',)\n",
      "(<cell at 0x0000023E37B217F0: list object at 0x0000023E3756A600>,)\n",
      "[10, 11, 12]\n"
     ]
    }
   ],
   "source": [
    "print(aver_2.__code__.co_freevars)\n",
    "print(aver_2.__closure__)  # 闭包\n",
    "print(aver_2.__closure__[0].cell_contents)\n",
    "\n"
   ],
   "metadata": {
    "collapsed": false,
    "pycharm": {
     "name": "#%%\n"
    }
   }
  },
  {
   "cell_type": "markdown",
   "source": [
    "- 闭包是一种函数，它会保留定义函数时存在的自由变量的绑定；\n",
    "- 这样调用函数时，虽然定义作用域不可用了，但是仍能使用那些绑定\n",
    "\n"
   ],
   "metadata": {
    "collapsed": false,
    "pycharm": {
     "name": "#%% md\n"
    }
   }
  }
 ],
 "metadata": {
  "kernelspec": {
   "display_name": "Python 3",
   "language": "python",
   "name": "python3"
  },
  "language_info": {
   "codemirror_mode": {
    "name": "ipython",
    "version": 2
   },
   "file_extension": ".py",
   "mimetype": "text/x-python",
   "name": "python",
   "nbconvert_exporter": "python",
   "pygments_lexer": "ipython2",
   "version": "2.7.6"
  }
 },
 "nbformat": 4,
 "nbformat_minor": 0
}